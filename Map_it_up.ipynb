{
 "cells": [
  {
   "cell_type": "code",
   "execution_count": 1,
   "metadata": {},
   "outputs": [],
   "source": [
    "import geopandas as gpd\n",
    "import matplotlib.pyplot as plt\n",
    "from matplotlib.patches import Polygon\n",
    "from matplotlib.colors import Normalize\n",
    "from matplotlib.offsetbox import OffsetImage, AnnotationBbox\n",
    "from PIL import Image\n",
    "import pickle"
   ]
  },
  {
   "cell_type": "code",
   "execution_count": 4,
   "metadata": {},
   "outputs": [],
   "source": [
    "with open(r\"HighRankedMovies_ByCountry.pickle\", \"rb\") as input_file:\n",
    "    movies = pickle.load(input_file)"
   ]
  },
  {
   "cell_type": "code",
   "execution_count": 15,
   "metadata": {},
   "outputs": [
    {
     "data": {
      "text/plain": [
       "[{'adult': False,\n",
       "  'backdrop_path': '/dwxdn3ppDAn7QtaLlhGDEErWfg9.jpg',\n",
       "  'genre_ids': [18],\n",
       "  'id': 5708,\n",
       "  'original_language': 'en',\n",
       "  'original_title': 'Control',\n",
       "  'overview': \"The story of Joy Division’s lead singer Ian Curtis, from his schoolboy days in 1973 to his suicide on the eve of the band's first American tour in 1980.\",\n",
       "  'popularity': 14.607,\n",
       "  'poster_path': '/jOJiaOhwrDdwqTRZvZOhbndqHGp.jpg',\n",
       "  'release_date': '2007-09-12',\n",
       "  'title': 'Control',\n",
       "  'video': False,\n",
       "  'vote_average': 7.529,\n",
       "  'vote_count': 769,\n",
       "  'country': ['United States of America', 'Aruba']},\n",
       " {'adult': False,\n",
       "  'backdrop_path': '/cQrq7h8Giz6pDg1jH6kCAjLqI7m.jpg',\n",
       "  'genre_ids': [28, 80, 53],\n",
       "  'id': 37498,\n",
       "  'original_language': 'en',\n",
       "  'original_title': 'Knock Off',\n",
       "  'overview': 'Marcus Ray, a sales representative for \"V SIX\" jeans, and his partner, Tommy Hendricks, are about to be busted for selling \"knock off\" jeans. Their American contact, Karan Leigh, who by the way is not only their employer but a CIA agent sent to find the mole in their operation, is threatening them with a jail term if they do not prove their innocence.',\n",
       "  'popularity': 14.97,\n",
       "  'poster_path': '/hK7hKDA51FCbtFCuXZNiQ6gPq3S.jpg',\n",
       "  'release_date': '1998-09-04',\n",
       "  'title': 'Knock Off',\n",
       "  'video': False,\n",
       "  'vote_average': 5.324,\n",
       "  'vote_count': 324,\n",
       "  'country': ['Aruba', 'Hong Kong', 'United States of America']}]"
      ]
     },
     "execution_count": 15,
     "metadata": {},
     "output_type": "execute_result"
    }
   ],
   "source": [
    "movies['Aruba']['movies']"
   ]
  },
  {
   "cell_type": "code",
   "execution_count": 33,
   "metadata": {},
   "outputs": [
    {
     "data": {
      "text/plain": [
       "<function __main__.select_entry(data)>"
      ]
     },
     "execution_count": 33,
     "metadata": {},
     "output_type": "execute_result"
    }
   ],
   "source": [
    "def select_entry(data):\n",
    "\n",
    "    Selected_Films = {}\n",
    "\n",
    "    for country in data:\n",
    "        max_popularity_entry = max(data[country]['movies'], key= lambda x: x['vote_average'])\n",
    "        # Filter out entries where the country in question is not the primary film.\n",
    "        if max_popularity_entry['country'] == country:\n",
    "            selected_entry = max_popularity_entry\n",
    "        else:\n",
    "            filtered_data = [entry for entry in data[country]['movies'] if entry['country'] == country]\n",
    "            if filtered_data:\n",
    "                selected_entry = max(filtered_data, key=lambda x: x['vote_average'])\n",
    "            else:\n",
    "                selected_entry = max_popularity_entry\n",
    "        print(select_entry)\n",
    "        Selected_Films[country] = select_entry\n",
    "    return Selected_Films\n",
    "\n",
    "select_entry(movies)"
   ]
  },
  {
   "cell_type": "code",
   "execution_count": 7,
   "metadata": {},
   "outputs": [
    {
     "name": "stdout",
     "output_type": "stream",
     "text": [
      "Fiji\n"
     ]
    },
    {
     "name": "stderr",
     "output_type": "stream",
     "text": [
      "C:\\Users\\Luke\\AppData\\Local\\Temp\\ipykernel_1728\\2210667121.py:2: FutureWarning: The geopandas.dataset module is deprecated and will be removed in GeoPandas 1.0. You can get the original 'naturalearth_lowres' data from https://www.naturalearthdata.com/downloads/110m-cultural-vectors/.\n",
      "  world = gpd.read_file(gpd.datasets.get_path('naturalearth_lowres'))\n"
     ]
    },
    {
     "ename": "FileNotFoundError",
     "evalue": "[Errno 2] No such file or directory: 'path/to/images/fiji.jpg'",
     "output_type": "error",
     "traceback": [
      "\u001b[1;31m---------------------------------------------------------------------------\u001b[0m",
      "\u001b[1;31mFileNotFoundError\u001b[0m                         Traceback (most recent call last)",
      "\u001b[1;32mc:\\Users\\Luke\\OneDrive - University College London\\Personal\\Code\\BestMovies\\Map_it_up.ipynb Cell 4\u001b[0m line \u001b[0;36m2\n\u001b[0;32m     <a href='vscode-notebook-cell:/c%3A/Users/Luke/OneDrive%20-%20University%20College%20London/Personal/Code/BestMovies/Map_it_up.ipynb#W2sZmlsZQ%3D%3D?line=25'>26</a>\u001b[0m     \u001b[39mif\u001b[39;00m country_name\u001b[39m.\u001b[39mlower() \u001b[39m==\u001b[39m \u001b[39m'\u001b[39m\u001b[39munited states\u001b[39m\u001b[39m'\u001b[39m:\n\u001b[0;32m     <a href='vscode-notebook-cell:/c%3A/Users/Luke/OneDrive%20-%20University%20College%20London/Personal/Code/BestMovies/Map_it_up.ipynb#W2sZmlsZQ%3D%3D?line=26'>27</a>\u001b[0m         image_path \u001b[39m=\u001b[39m \u001b[39m'\u001b[39m\u001b[39mpath/to/images/usa.jpg\u001b[39m\u001b[39m'\u001b[39m\n\u001b[1;32m---> <a href='vscode-notebook-cell:/c%3A/Users/Luke/OneDrive%20-%20University%20College%20London/Personal/Code/BestMovies/Map_it_up.ipynb#W2sZmlsZQ%3D%3D?line=28'>29</a>\u001b[0m     create_image_annotation(ax, image_path, boundary, zoom\u001b[39m=\u001b[39;49m\u001b[39m0.2\u001b[39;49m)\n\u001b[0;32m     <a href='vscode-notebook-cell:/c%3A/Users/Luke/OneDrive%20-%20University%20College%20London/Personal/Code/BestMovies/Map_it_up.ipynb#W2sZmlsZQ%3D%3D?line=30'>31</a>\u001b[0m \u001b[39m# Set plot limits\u001b[39;00m\n\u001b[0;32m     <a href='vscode-notebook-cell:/c%3A/Users/Luke/OneDrive%20-%20University%20College%20London/Personal/Code/BestMovies/Map_it_up.ipynb#W2sZmlsZQ%3D%3D?line=31'>32</a>\u001b[0m ax\u001b[39m.\u001b[39mset_xlim([\u001b[39m-\u001b[39m\u001b[39m180\u001b[39m, \u001b[39m180\u001b[39m])\n",
      "\u001b[1;32mc:\\Users\\Luke\\OneDrive - University College London\\Personal\\Code\\BestMovies\\Map_it_up.ipynb Cell 4\u001b[0m line \u001b[0;36m6\n\u001b[0;32m      <a href='vscode-notebook-cell:/c%3A/Users/Luke/OneDrive%20-%20University%20College%20London/Personal/Code/BestMovies/Map_it_up.ipynb#W2sZmlsZQ%3D%3D?line=4'>5</a>\u001b[0m \u001b[39mdef\u001b[39;00m \u001b[39mcreate_image_annotation\u001b[39m(ax, image_path, extent, zoom\u001b[39m=\u001b[39m\u001b[39m1\u001b[39m):\n\u001b[1;32m----> <a href='vscode-notebook-cell:/c%3A/Users/Luke/OneDrive%20-%20University%20College%20London/Personal/Code/BestMovies/Map_it_up.ipynb#W2sZmlsZQ%3D%3D?line=5'>6</a>\u001b[0m     img \u001b[39m=\u001b[39m Image\u001b[39m.\u001b[39;49mopen(image_path)\n\u001b[0;32m      <a href='vscode-notebook-cell:/c%3A/Users/Luke/OneDrive%20-%20University%20College%20London/Personal/Code/BestMovies/Map_it_up.ipynb#W2sZmlsZQ%3D%3D?line=6'>7</a>\u001b[0m     img \u001b[39m=\u001b[39m img\u001b[39m.\u001b[39mresize((\u001b[39mint\u001b[39m(img\u001b[39m.\u001b[39mwidth \u001b[39m*\u001b[39m zoom), \u001b[39mint\u001b[39m(img\u001b[39m.\u001b[39mheight \u001b[39m*\u001b[39m zoom)))\n\u001b[0;32m      <a href='vscode-notebook-cell:/c%3A/Users/Luke/OneDrive%20-%20University%20College%20London/Personal/Code/BestMovies/Map_it_up.ipynb#W2sZmlsZQ%3D%3D?line=8'>9</a>\u001b[0m     imagebox \u001b[39m=\u001b[39m OffsetImage(img, zoom\u001b[39m=\u001b[39mzoom)\n",
      "File \u001b[1;32m~\\AppData\\Local\\Packages\\PythonSoftwareFoundation.Python.3.10_qbz5n2kfra8p0\\LocalCache\\local-packages\\Python310\\site-packages\\PIL\\Image.py:3243\u001b[0m, in \u001b[0;36mopen\u001b[1;34m(fp, mode, formats)\u001b[0m\n\u001b[0;32m   3240\u001b[0m     filename \u001b[39m=\u001b[39m fp\n\u001b[0;32m   3242\u001b[0m \u001b[39mif\u001b[39;00m filename:\n\u001b[1;32m-> 3243\u001b[0m     fp \u001b[39m=\u001b[39m builtins\u001b[39m.\u001b[39;49mopen(filename, \u001b[39m\"\u001b[39;49m\u001b[39mrb\u001b[39;49m\u001b[39m\"\u001b[39;49m)\n\u001b[0;32m   3244\u001b[0m     exclusive_fp \u001b[39m=\u001b[39m \u001b[39mTrue\u001b[39;00m\n\u001b[0;32m   3246\u001b[0m \u001b[39mtry\u001b[39;00m:\n",
      "\u001b[1;31mFileNotFoundError\u001b[0m: [Errno 2] No such file or directory: 'path/to/images/fiji.jpg'"
     ]
    },
    {
     "data": {
      "image/png": "[encoded data removed]",
      "text/plain": [
       "<Figure size 1500x1000 with 1 Axes>"
      ]
     },
     "metadata": {},
     "output_type": "display_data"
    }
   ],
   "source": [
    "# Load the world map data\n",
    "world = gpd.read_file(gpd.datasets.get_path('naturalearth_lowres'))\n",
    "\n",
    "# Function to create an image annotation for a country\n",
    "def create_image_annotation(ax, image_path, extent, zoom=1):\n",
    "    img = Image.open(image_path)\n",
    "    img = img.resize((int(img.width * zoom), int(img.height * zoom)))\n",
    "\n",
    "    imagebox = OffsetImage(img, zoom=zoom)\n",
    "    ab = AnnotationBbox(imagebox, extent, frameon=False, pad=0)\n",
    "    ax.add_artist(ab)\n",
    "\n",
    "# Create a plot\n",
    "fig, ax = plt.subplots(figsize=(15, 10))\n",
    "\n",
    "# Loop through each country and plot it\n",
    "for idx, row in world.iterrows():\n",
    "    country_name = row['name']\n",
    "    print(country_name)\n",
    "    geometry = row['geometry']\n",
    "    boundary = geometry.boundary\n",
    "\n",
    "    # Example: Use a sample JPEG image for each country\n",
    "    image_path = f'path/to/images/{country_name.lower()}.jpg'\n",
    "\n",
    "    if country_name.lower() == 'united states':\n",
    "        image_path = 'path/to/images/usa.jpg'\n",
    "\n",
    "    create_image_annotation(ax, image_path, boundary, zoom=0.2)\n",
    "\n",
    "# Set plot limits\n",
    "ax.set_xlim([-180, 180])\n",
    "ax.set_ylim([-60, 90])\n",
    "\n",
    "# Hide the axes\n",
    "ax.axis('off')\n",
    "\n",
    "# Show the plot\n",
    "plt.show()"
   ]
  },
  {
   "cell_type": "code",
   "execution_count": null,
   "metadata": {},
   "outputs": [],
   "source": []
  }
 ],
 "metadata": {
  "kernelspec": {
   "display_name": "Python 3",
   "language": "python",
   "name": "python3"
  },
  "language_info": {
   "codemirror_mode": {
    "name": "ipython",
    "version": 3
   },
   "file_extension": ".py",
   "mimetype": "text/x-python",
   "name": "python",
   "nbconvert_exporter": "python",
   "pygments_lexer": "ipython3",
   "version": "3.10.11"
  }
 },
 "nbformat": 4,
 "nbformat_minor": 2
}

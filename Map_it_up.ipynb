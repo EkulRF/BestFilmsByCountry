{
 "cells": [
  {
   "cell_type": "code",
   "execution_count": null,
   "metadata": {},
   "outputs": [],
   "source": [
    "import os\n",
    "import geopandas as gpd\n",
    "import matplotlib.pyplot as plt\n",
    "from matplotlib.patches import Polygon\n",
    "from matplotlib.colors import Normalize\n",
    "from matplotlib.offsetbox import OffsetImage, AnnotationBbox\n",
    "from matplotlib.transforms import Bbox\n",
    "from shapely.geometry import Polygon, MultiPolygon\n",
    "from PIL import Image\n",
    "import pickle\n",
    "import requests\n",
    "import folium\n",
    "from countryinfo import CountryInfo\n",
    "from geopy.geocoders import Nominatim"
   ]
  },
  {
   "cell_type": "code",
   "execution_count": null,
   "metadata": {},
   "outputs": [],
   "source": [
    "with open(r\"HighRankedMovies_ByCountry.pickle\", \"rb\") as input_file:\n",
    "    movies = pickle.load(input_file)"
   ]
  },
  {
   "cell_type": "code",
   "execution_count": null,
   "metadata": {},
   "outputs": [],
   "source": [
    "def select_entry(data):\n",
    "\n",
    "    Selected_Films = {}\n",
    "\n",
    "    for country in data:\n",
    "        max_popularity_entry = max(data[country]['movies'], key= lambda x: x.get('vote_average'))\n",
    "        # Filter out entries where the country in question is not the primary film.\n",
    "        if max_popularity_entry['country'][0] == country:\n",
    "            selected_entry = max_popularity_entry.copy()\n",
    "        else:\n",
    "            filtered_data = [entry for entry in data[country]['movies'] if entry['country'][0] == country]\n",
    "            if filtered_data:\n",
    "                max_popularity_entry = max(filtered_data, key=lambda x: x.get('vote_average')).copy()\n",
    "        Selected_Films[country] = max_popularity_entry\n",
    "    return Selected_Films\n",
    "\n",
    "Movies2Plot = select_entry(movies)"
   ]
  },
  {
   "cell_type": "code",
   "execution_count": null,
   "metadata": {},
   "outputs": [],
   "source": [
    "def RetrieveImages(movies):\n",
    "\n",
    "    base_path = 'https://image.tmdb.org/t/p/original'\n",
    "\n",
    "    for country in movies:\n",
    "        img_data = requests.get(base_path + movies[country]['poster_path']).content\n",
    "\n",
    "        with open('Posters/' + country + '.jpg', 'wb') as handler:\n",
    "            handler.write(img_data)\n",
    "\n",
    "# Save movie posters to the Posters directory\n",
    "RetrieveImages(Movies2Plot)"
   ]
  },
  {
   "cell_type": "code",
   "execution_count": null,
   "metadata": {},
   "outputs": [],
   "source": [
    "def create_image_annotation(ax, image_path, coordinates, zoom=1):\n",
    "    image = plt.imread(image_path)\n",
    "\n",
    "    if isinstance(coordinates, MultiPolygon):\n",
    "        coords = coordinates.convex_hull.exterior.coords.xy\n",
    "    elif isinstance(coordinates, Polygon):\n",
    "        coords = coordinates.exterior.coords.xy\n",
    "\n",
    "    ax.imshow(image, extent=(min(coords[0]), max(coords[0]), min(coords[1]), max(coords[1])), aspect='auto', zorder=2)"
   ]
  },
  {
   "cell_type": "code",
   "execution_count": null,
   "metadata": {},
   "outputs": [],
   "source": [
    "\n",
    "\n",
    "# Load the world map data\n",
    "world = gpd.read_file(gpd.datasets.get_path('naturalearth_lowres'))\n",
    "\n",
    "fig, ax = plt.subplots(figsize=(15, 10))\n",
    "\n",
    "# Loop through each country and plot it\n",
    "for idx, row in world.iterrows():\n",
    "    country_name = row['name']\n",
    "    geometry = row['geometry']\n",
    "    boundary = geometry.boundary\n",
    "\n",
    "    if not os.path.exists(f'Posters/{country_name}.jpg'):\n",
    "        print(\"No film listed for \", country_name)\n",
    "        continue\n",
    "\n",
    "    if geometry.geom_type == 'MultiPolygon':\n",
    "        coordinates = geometry\n",
    "    else:\n",
    "        coordinates = geometry\n",
    "\n",
    "    # Example: Use a sample JPEG image for each country\n",
    "    image_path = f'Posters/{country_name}.jpg'\n",
    "\n",
    "    create_image_annotation(ax, image_path, coordinates, zoom=0.2)\n",
    "\n",
    "# Set plot limits\n",
    "ax.set_xlim([-180, 180])\n",
    "ax.set_ylim([-60, 90])\n",
    "\n",
    "# Hide the axes\n",
    "ax.axis('off')\n",
    "\n",
    "# Show the plot\n",
    "plt.show()"
   ]
  },
  {
   "cell_type": "code",
   "execution_count": null,
   "metadata": {},
   "outputs": [],
   "source": [
    "import folium\n",
    "from countryinfo import CountryInfo\n",
    "import json\n",
    "import requests\n",
    "from shapely.geometry import shape"
   ]
  },
  {
   "cell_type": "code",
   "execution_count": null,
   "metadata": {},
   "outputs": [],
   "source": [
    "tiles = \"https://cartodb-basemaps-{s}.global.ssl.fastly.net/dark_all/{z}/{x}/{y}.png\"\n",
    "\n",
    "world = gpd.read_file(gpd.datasets.get_path('naturalearth_lowres'))\n",
    "\n",
    "m = folium.Map(location=[0, 0], zoom_start=2, tiles=tiles, attr=\"CartoDB Dark Matter\")\n",
    "\n",
    "folium.GeoJson(\n",
    "    world,\n",
    "    name='geojson'\n",
    ").add_to(m)\n",
    "\n",
    "for idx, row in world.iterrows():\n",
    "    country_name = row['name']\n",
    "    geometry = row['geometry']\n",
    "    boundary = geometry.boundary\n",
    "    \n",
    "    if not os.path.exists(f'Posters/{country_name}.jpg'):\n",
    "        print(\"No film listed for \", country_name)\n",
    "        continue\n",
    "    \n",
    "    geolocator = Nominatim(user_agent=\"geoapiExercises\")\n",
    "    location = geolocator.geocode(country_name)\n",
    "\n",
    "    # Extract mainland boundaries using geopandas\n",
    "    world_country = world[world['name'] == country_name]\n",
    "    #mainland_geojson = world_country.geometry.simplify(tolerance=0.001).to_json()\n",
    "    mainland_geojson = world_country.geometry.to_json()\n",
    "\n",
    "    # Get bounding box coordinates for the mainland\n",
    "    mainland_bounds = gpd.GeoDataFrame.from_features(json.loads(mainland_geojson)['features']).total_bounds\n",
    "    \n",
    "    folium.raster_layers.ImageOverlay(\n",
    "        image = f'Posters/{country_name}.jpg',\n",
    "        bounds=[[mainland_bounds[1], mainland_bounds[0]], [mainland_bounds[3], mainland_bounds[2]]],\n",
    "        opacity=1.0,\n",
    "        name=country_name\n",
    "    ).add_to(m)\n",
    "\n",
    "m.save('world_map_with_images.html')"
   ]
  },
  {
   "cell_type": "code",
   "execution_count": null,
   "metadata": {},
   "outputs": [],
   "source": [
    "m"
   ]
  },
  {
   "cell_type": "code",
   "execution_count": null,
   "metadata": {},
   "outputs": [],
   "source": []
  }
 ],
 "metadata": {
  "kernelspec": {
   "display_name": "Python 3",
   "language": "python",
   "name": "python3"
  },
  "language_info": {
   "codemirror_mode": {
    "name": "ipython",
    "version": 3
   },
   "file_extension": ".py",
   "mimetype": "text/x-python",
   "name": "python",
   "nbconvert_exporter": "python",
   "pygments_lexer": "ipython3",
   "version": "3.10.11"
  }
 },
 "nbformat": 4,
 "nbformat_minor": 2
}
